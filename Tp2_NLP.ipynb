{
  "nbformat": 4,
  "nbformat_minor": 0,
  "metadata": {
    "colab": {
      "provenance": []
    },
    "kernelspec": {
      "name": "python3",
      "display_name": "Python 3"
    },
    "language_info": {
      "name": "python"
    }
  },
  "cells": [
    {
      "cell_type": "code",
      "execution_count": 69,
      "metadata": {
        "colab": {
          "base_uri": "https://localhost:8080/"
        },
        "id": "8A0Og2QyjZo5",
        "outputId": "7ff1f347-c191-40c9-dd9e-db000916c532"
      },
      "outputs": [
        {
          "output_type": "stream",
          "name": "stderr",
          "text": [
            "[nltk_data] Downloading package punkt to /root/nltk_data...\n",
            "[nltk_data]   Package punkt is already up-to-date!\n",
            "[nltk_data] Downloading package wordnet to /root/nltk_data...\n",
            "[nltk_data]   Package wordnet is already up-to-date!\n",
            "[nltk_data] Downloading package stopwords to /root/nltk_data...\n",
            "[nltk_data]   Package stopwords is already up-to-date!\n"
          ]
        },
        {
          "output_type": "execute_result",
          "data": {
            "text/plain": [
              "True"
            ]
          },
          "metadata": {},
          "execution_count": 69
        }
      ],
      "source": [
        "import nltk\n",
        "import gensim\n",
        "import re\n",
        "from gensim.models import Word2Vec\n",
        "from gensim.utils import simple_preprocess\n",
        "from nltk.tokenize import word_tokenize\n",
        "from nltk.corpus import stopwords\n",
        "from nltk.stem import WordNetLemmatizer\n",
        "nltk.download('punkt')\n",
        "nltk.download('wordnet')\n",
        "nltk.download('stopwords')\n"
      ]
    },
    {
      "cell_type": "code",
      "source": [
        "# Fonction de prétraitement du texte\n",
        "def preprocess_text(text):\n",
        "    # Suppression de la ponctuation\n",
        "    text = re.sub(r'[^\\w\\s]', '', text)\n",
        "    # Tokenization\n",
        "    tokens = word_tokenize(text)\n",
        "\n",
        "    # Lemmatization\n",
        "    lemmatizer = WordNetLemmatizer()\n",
        "    tokens = [lemmatizer.lemmatize(token.lower()) for token in tokens]\n",
        "    # Suppression des mots vides\n",
        "    stop_words = set(stopwords.words('english'))\n",
        "    tokens = [token for token in tokens if token not in stop_words]\n",
        "    return tokens\n",
        "    print(tokens)\n",
        "print(text)"
      ],
      "metadata": {
        "colab": {
          "base_uri": "https://localhost:8080/"
        },
        "id": "8wj0eqBrjpJw",
        "outputId": "69444419-e0db-45b1-c971-103f39322e13"
      },
      "execution_count": 70,
      "outputs": [
        {
          "output_type": "stream",
          "name": "stdout",
          "text": [
            "morocco marrakech tapestry tradition modernity morocco located crossroad europe africa country drenched history mystery cultural richness testament ancient civilization flourished north african kingdom boast unique blend arab berber european influence heart morocco rich tapestry lie marrakech one four imperial city vibrant epicenter tradition modernity geographical significance morocco bordered atlantic ocean west mediterranean sea north algeria east southeast vast sahara desert south strategic location ha historically made soughtafter territory melting pot culture religion trade route marrakech red city marrakech often referred red city due distinctive redhued building stand backdrop snowcapped atlas mountain established 11th century ha remained crucial political economic cultural center morocco journey medina marrakech old town medina unesco world heritage site labyrinthine maze narrow alley bustling souk historical landmark djemaa elfna square lie heart medina come alive every evening storyteller musician snake charmer food stall offering tantalizing moroccan delicacy palace garden city also home grand palace like bahia palace showcasing intricate islamic architecture saadian tomb remnant saadian dynasty majorelle garden restored fashion designer yves saint laurent tranquil oasis cactus palm tree cobalt blue accent modern marrakech tradition history permeate marrakech city averse modern world gueliz new town brimming contemporary art gallery stylish cafe chic boutique offering stark contrast ancient medina moroccan cuisine journey morocco marrakech would complete without indulging local cuisine tagines couscous pastilla many dish combine plethora flavor spice like saffron cumin mint paired moroccan mint tea culinary experience truly unparalleled conclusion morocco marrakech heart offer traveler unparalleled journey time convergence history culture architecture gastronomy make enthralling destination seeking adventure reflection moroccan proverb go doe travel doe know value men case morocco marrakech value men also value time tradition tale spanned century\n"
          ]
        }
      ]
    },
    {
      "cell_type": "code",
      "source": [
        "# Lecture du fichier texte\n",
        "file_path = \"/content/text\"\n",
        "with open(file_path, 'r', encoding='utf-8') as file:\n",
        "    text = file.read()\n",
        "    print(\"\\n\",text)\n",
        "    print(\"\\n\\n\")\n",
        "    # Prétraitement du texte\n",
        "    preprocessed_text = preprocess_text(text)\n",
        "    # Affichage du texte\n",
        "    text = ' '.join(preprocessed_text)\n",
        "    print(preprocessed_text)"
      ],
      "metadata": {
        "colab": {
          "base_uri": "https://localhost:8080/"
        },
        "id": "z2seCTnjs63Q",
        "outputId": "852f0323-fee5-4407-a3f3-7ebc7bedabed"
      },
      "execution_count": 71,
      "outputs": [
        {
          "output_type": "stream",
          "name": "stdout",
          "text": [
            "\n",
            " **Morocco and Marrakech: A Tapestry of Tradition and Modernity** Morocco, located at the crossroads of Europe and Africa, is a country drenched in history, mystery, and cultural richness. A testament to the ancient civilizations that once flourished here, this North African kingdom boasts a unique blend of Arab, Berber, and European influences. At the heart of Morocco's rich tapestry lies Marrakech, one of its four imperial cities and a vibrant epicenter of tradition and modernity. **Geographical Significance** Morocco is bordered by the Atlantic Ocean to the west, the Mediterranean Sea to the north, Algeria to the east and southeast, and the vast Sahara desert to the south. Its strategic location has historically made it a sought-after territory and a melting pot of cultures, religions, and trade routes. **Marrakech: The Red City** Marrakech, often referred to as \"The Red City\" due to its distinctive red-hued buildings, stands against the backdrop of the snow-capped Atlas Mountains. Established in the 11th century, it has remained a crucial political, economic, and cultural center of Morocco. **Journey through the Medina** Marrakech's old town, the Medina, is a UNESCO World Heritage site and a labyrinthine maze of narrow alleys, bustling souks, and historical landmarks. The Djemaa el-Fna Square lies at the heart of the Medina and comes alive every evening with storytellers, musicians, snake charmers, and food stalls offering tantalizing Moroccan delicacies. **Palaces and Gardens** The city is also home to grand palaces like the Bahia Palace, showcasing intricate Islamic architecture, and the Saadian Tombs, remnants of the Saadian dynasty. The Majorelle Garden, restored by the fashion designer Yves Saint Laurent, is a tranquil oasis of cacti, palm trees, and cobalt blue accents. **Modern Marrakech** While tradition and history permeate Marrakech, the city is not averse to the modern world. Gueliz, the new town, is brimming with contemporary art galleries, stylish cafes, and chic boutiques, offering a stark contrast to the ancient Medina. **Moroccan Cuisine** No journey through Morocco and Marrakech would be complete without indulging in the local cuisine. Tagines, couscous, and pastilla are just a few of the many dishes that combine a plethora of flavors and spices like saffron, cumin, and mint. Paired with Moroccan mint tea, the culinary experience is truly unparalleled. **In Conclusion** Morocco, with Marrakech at its heart, offers travelers an unparalleled journey through time. The convergence of history, culture, architecture, and gastronomy makes it an enthralling destination for those seeking both adventure and reflection. As the Moroccan proverb goes, \"He who does not travel does not know the value of men.\" In the case of Morocco and Marrakech, it's not just the value of men, but also the value of time, tradition, and tales that have spanned centuries.\n",
            "\n",
            "\n",
            "\n",
            "['morocco', 'marrakech', 'tapestry', 'tradition', 'modernity', 'morocco', 'located', 'crossroad', 'europe', 'africa', 'country', 'drenched', 'history', 'mystery', 'cultural', 'richness', 'testament', 'ancient', 'civilization', 'flourished', 'north', 'african', 'kingdom', 'boast', 'unique', 'blend', 'arab', 'berber', 'european', 'influence', 'heart', 'morocco', 'rich', 'tapestry', 'lie', 'marrakech', 'one', 'four', 'imperial', 'city', 'vibrant', 'epicenter', 'tradition', 'modernity', 'geographical', 'significance', 'morocco', 'bordered', 'atlantic', 'ocean', 'west', 'mediterranean', 'sea', 'north', 'algeria', 'east', 'southeast', 'vast', 'sahara', 'desert', 'south', 'strategic', 'location', 'ha', 'historically', 'made', 'soughtafter', 'territory', 'melting', 'pot', 'culture', 'religion', 'trade', 'route', 'marrakech', 'red', 'city', 'marrakech', 'often', 'referred', 'red', 'city', 'due', 'distinctive', 'redhued', 'building', 'stand', 'backdrop', 'snowcapped', 'atlas', 'mountain', 'established', '11th', 'century', 'ha', 'remained', 'crucial', 'political', 'economic', 'cultural', 'center', 'morocco', 'journey', 'medina', 'marrakech', 'old', 'town', 'medina', 'unesco', 'world', 'heritage', 'site', 'labyrinthine', 'maze', 'narrow', 'alley', 'bustling', 'souk', 'historical', 'landmark', 'djemaa', 'elfna', 'square', 'lie', 'heart', 'medina', 'come', 'alive', 'every', 'evening', 'storyteller', 'musician', 'snake', 'charmer', 'food', 'stall', 'offering', 'tantalizing', 'moroccan', 'delicacy', 'palace', 'garden', 'city', 'also', 'home', 'grand', 'palace', 'like', 'bahia', 'palace', 'showcasing', 'intricate', 'islamic', 'architecture', 'saadian', 'tomb', 'remnant', 'saadian', 'dynasty', 'majorelle', 'garden', 'restored', 'fashion', 'designer', 'yves', 'saint', 'laurent', 'tranquil', 'oasis', 'cactus', 'palm', 'tree', 'cobalt', 'blue', 'accent', 'modern', 'marrakech', 'tradition', 'history', 'permeate', 'marrakech', 'city', 'averse', 'modern', 'world', 'gueliz', 'new', 'town', 'brimming', 'contemporary', 'art', 'gallery', 'stylish', 'cafe', 'chic', 'boutique', 'offering', 'stark', 'contrast', 'ancient', 'medina', 'moroccan', 'cuisine', 'journey', 'morocco', 'marrakech', 'would', 'complete', 'without', 'indulging', 'local', 'cuisine', 'tagines', 'couscous', 'pastilla', 'many', 'dish', 'combine', 'plethora', 'flavor', 'spice', 'like', 'saffron', 'cumin', 'mint', 'paired', 'moroccan', 'mint', 'tea', 'culinary', 'experience', 'truly', 'unparalleled', 'conclusion', 'morocco', 'marrakech', 'heart', 'offer', 'traveler', 'unparalleled', 'journey', 'time', 'convergence', 'history', 'culture', 'architecture', 'gastronomy', 'make', 'enthralling', 'destination', 'seeking', 'adventure', 'reflection', 'moroccan', 'proverb', 'go', 'doe', 'travel', 'doe', 'know', 'value', 'men', 'case', 'morocco', 'marrakech', 'value', 'men', 'also', 'value', 'time', 'tradition', 'tale', 'spanned', 'century']\n"
          ]
        }
      ]
    },
    {
      "cell_type": "code",
      "source": [
        "# Prétraitement du texte en une liste de phrases\n",
        "sentences = [simple_preprocess(sentence) for sentence in text.split('\\n') if sentence.strip() != '']\n",
        "\n",
        "print(sentences)"
      ],
      "metadata": {
        "colab": {
          "base_uri": "https://localhost:8080/"
        },
        "id": "CNOap1-wkh6D",
        "outputId": "4c9c6226-7a42-4e4e-9107-7ff142a74f2b"
      },
      "execution_count": 72,
      "outputs": [
        {
          "output_type": "stream",
          "name": "stdout",
          "text": [
            "[['morocco', 'marrakech', 'tapestry', 'tradition', 'modernity', 'morocco', 'located', 'crossroad', 'europe', 'africa', 'country', 'drenched', 'history', 'mystery', 'cultural', 'richness', 'testament', 'ancient', 'civilization', 'flourished', 'north', 'african', 'kingdom', 'boast', 'unique', 'blend', 'arab', 'berber', 'european', 'influence', 'heart', 'morocco', 'rich', 'tapestry', 'lie', 'marrakech', 'one', 'four', 'imperial', 'city', 'vibrant', 'epicenter', 'tradition', 'modernity', 'geographical', 'significance', 'morocco', 'bordered', 'atlantic', 'ocean', 'west', 'mediterranean', 'sea', 'north', 'algeria', 'east', 'southeast', 'vast', 'sahara', 'desert', 'south', 'strategic', 'location', 'ha', 'historically', 'made', 'soughtafter', 'territory', 'melting', 'pot', 'culture', 'religion', 'trade', 'route', 'marrakech', 'red', 'city', 'marrakech', 'often', 'referred', 'red', 'city', 'due', 'distinctive', 'redhued', 'building', 'stand', 'backdrop', 'snowcapped', 'atlas', 'mountain', 'established', 'th', 'century', 'ha', 'remained', 'crucial', 'political', 'economic', 'cultural', 'center', 'morocco', 'journey', 'medina', 'marrakech', 'old', 'town', 'medina', 'unesco', 'world', 'heritage', 'site', 'labyrinthine', 'maze', 'narrow', 'alley', 'bustling', 'souk', 'historical', 'landmark', 'djemaa', 'elfna', 'square', 'lie', 'heart', 'medina', 'come', 'alive', 'every', 'evening', 'storyteller', 'musician', 'snake', 'charmer', 'food', 'stall', 'offering', 'tantalizing', 'moroccan', 'delicacy', 'palace', 'garden', 'city', 'also', 'home', 'grand', 'palace', 'like', 'bahia', 'palace', 'showcasing', 'intricate', 'islamic', 'architecture', 'saadian', 'tomb', 'remnant', 'saadian', 'dynasty', 'majorelle', 'garden', 'restored', 'fashion', 'designer', 'yves', 'saint', 'laurent', 'tranquil', 'oasis', 'cactus', 'palm', 'tree', 'cobalt', 'blue', 'accent', 'modern', 'marrakech', 'tradition', 'history', 'permeate', 'marrakech', 'city', 'averse', 'modern', 'world', 'gueliz', 'new', 'town', 'brimming', 'contemporary', 'art', 'gallery', 'stylish', 'cafe', 'chic', 'boutique', 'offering', 'stark', 'contrast', 'ancient', 'medina', 'moroccan', 'cuisine', 'journey', 'morocco', 'marrakech', 'would', 'complete', 'without', 'indulging', 'local', 'cuisine', 'tagines', 'couscous', 'pastilla', 'many', 'dish', 'combine', 'plethora', 'flavor', 'spice', 'like', 'saffron', 'cumin', 'mint', 'paired', 'moroccan', 'mint', 'tea', 'culinary', 'experience', 'truly', 'unparalleled', 'conclusion', 'morocco', 'marrakech', 'heart', 'offer', 'traveler', 'unparalleled', 'journey', 'time', 'convergence', 'history', 'culture', 'architecture', 'gastronomy', 'make', 'enthralling', 'destination', 'seeking', 'adventure', 'reflection', 'moroccan', 'proverb', 'go', 'doe', 'travel', 'doe', 'know', 'value', 'men', 'case', 'morocco', 'marrakech', 'value', 'men', 'also', 'value', 'time', 'tradition', 'tale', 'spanned', 'century']]\n"
          ]
        }
      ]
    },
    {
      "cell_type": "code",
      "source": [
        "# Entraînement du modèle Word2Vec\n",
        "model = Word2Vec(sentences, vector_size=100, window=5, min_count=1, workers=4)\n",
        "\n",
        "print(\"le modele :\",model)"
      ],
      "metadata": {
        "colab": {
          "base_uri": "https://localhost:8080/"
        },
        "id": "JKmD2qMukkB5",
        "outputId": "6b8c330f-e43f-474f-bafa-4a60f015dcd1"
      },
      "execution_count": 73,
      "outputs": [
        {
          "output_type": "stream",
          "name": "stdout",
          "text": [
            "le modele : Word2Vec<vocab=210, vector_size=100, alpha=0.025>\n"
          ]
        }
      ]
    },
    {
      "cell_type": "code",
      "source": [
        "# 1. Représentation vectorielle d'un mot\n",
        "word_vector = model.wv['modernity']\n",
        "word_vector2 = model.wv['europe']\n",
        "print(\"\\n\\nReprésentation vectorielle du mot 'modernity':\", word_vector)\n",
        "\n",
        "print(\"\\n****************************************************************************************************************************\")\n",
        "print(\"\\n\\nReprésentation vectorielle du mot 'europe':\", word_vector2)\n"
      ],
      "metadata": {
        "colab": {
          "base_uri": "https://localhost:8080/"
        },
        "id": "oMKIWpGAkoJF",
        "outputId": "ebac2e34-5c4e-486b-da1e-995145133538"
      },
      "execution_count": 74,
      "outputs": [
        {
          "output_type": "stream",
          "name": "stdout",
          "text": [
            "\n",
            "\n",
            "Représentation vectorielle du mot 'modernity': [-1.5150765e-03 -4.0322011e-03 -4.3954402e-03 -4.6252972e-03\n",
            " -5.5893287e-03 -5.3249053e-03 -8.0177551e-03  9.5492974e-03\n",
            "  6.3930503e-03 -3.6105413e-03  2.4726125e-03 -7.6588024e-03\n",
            "  7.5277956e-03  8.3157644e-03  7.7696453e-04 -6.8408004e-03\n",
            " -2.9569215e-03  4.7150282e-03 -2.9348228e-03  3.1520166e-03\n",
            "  9.4142184e-03  4.3458482e-03 -5.1428378e-03  5.4635485e-03\n",
            " -2.8670286e-03 -6.3862293e-03  7.0068296e-03 -9.2635555e-03\n",
            " -1.1450582e-03 -1.3777560e-03 -8.4119355e-03 -1.0805026e-03\n",
            "  5.5919564e-03 -5.2756299e-03 -7.0291008e-03  6.2409015e-03\n",
            " -3.4196840e-03 -7.8385444e-03  2.8777891e-04 -7.6001212e-05\n",
            "  7.5141564e-03  5.2631885e-04  7.8739962e-03 -9.8185511e-03\n",
            "  4.0444368e-03  6.2216050e-03  1.0243427e-03 -2.8441639e-03\n",
            "  1.0239133e-03 -8.3678443e-04 -8.0808569e-03 -6.7817597e-03\n",
            "  1.2073754e-03 -2.0230603e-03  9.5435968e-03 -9.4373315e-04\n",
            "  6.1137918e-03  2.0470575e-03  8.0828005e-03 -9.2989486e-03\n",
            "  2.3914105e-03 -1.4516964e-03  2.1639140e-03 -2.3756037e-04\n",
            " -6.6463472e-03  9.0462621e-03 -2.8188350e-03  1.9330656e-03\n",
            " -6.4554024e-03  3.7332748e-03  9.9811014e-03 -1.1921980e-03\n",
            "  6.5774629e-03 -1.3135605e-04  7.9518538e-03  9.6702194e-03\n",
            " -3.8597672e-04 -1.6967426e-03 -9.5167011e-03  9.8809954e-03\n",
            " -2.5314766e-03  2.1882982e-03 -1.7217178e-03  8.3423629e-03\n",
            "  8.3350604e-03  1.5357515e-03  2.9015255e-03  6.4326101e-03\n",
            "  2.2662452e-03  6.4350525e-03  1.6654113e-04 -2.2609781e-03\n",
            "  5.3285956e-03 -3.4048604e-03 -2.5773323e-03  8.8096298e-03\n",
            " -9.1557195e-03 -3.4255015e-03 -2.9234376e-03  5.6655137e-03]\n",
            "\n",
            "****************************************************************************************************************************\n",
            "\n",
            "\n",
            "Représentation vectorielle du mot 'europe': [ 0.00727114 -0.00070394  0.00571752 -0.00910732  0.00059007 -0.00384398\n",
            "  0.00063128  0.0014435   0.0097441   0.00621253  0.00302462 -0.00618132\n",
            "  0.00705694 -0.00526497 -0.00253873 -0.00159675 -0.00227462 -0.00422211\n",
            "  0.00742434  0.0065892   0.00012068  0.00105657 -0.00324316 -0.00565105\n",
            " -0.0049418  -0.00018464 -0.00828158  0.00036567  0.00351632 -0.00464263\n",
            "  0.00418202  0.00197299  0.00068897  0.00539595  0.00117174 -0.00561762\n",
            "  0.00403806 -0.00401716  0.00876518 -0.00697235  0.00322325 -0.00366768\n",
            " -0.00057815  0.00565169  0.00843835  0.00490387  0.00596891  0.0084987\n",
            "  0.00382281 -0.00221699 -0.00223264 -0.00803867  0.00035952 -0.00663951\n",
            "  0.0043068   0.00027732  0.00689295 -0.00779944 -0.0065329   0.00404525\n",
            "  0.00158879 -0.0039461   0.00202337 -0.0004996   0.00608104 -0.00176182\n",
            "  0.0031219  -0.00250208  0.00502974  0.00680126 -0.00477847 -0.00919447\n",
            " -0.00363978  0.00753322 -0.00633304 -0.0081679   0.00541083 -0.00752904\n",
            " -0.00564861 -0.00607048 -0.00369128  0.00718527 -0.00578318  0.00958904\n",
            "  0.00951411 -0.00682485  0.00585736  0.00095247  0.00420178  0.00188975\n",
            "  0.00566902 -0.00605459  0.0053088   0.00454242  0.00707228 -0.0007866\n",
            " -0.00539352 -0.00516096 -0.00185387 -0.00514171]\n"
          ]
        }
      ]
    },
    {
      "cell_type": "code",
      "source": [
        "# 2. Similarité entre deux mots\n",
        "similarity = model.wv.similarity('europe', 'africa')\n",
        "print(\"Similarité entre 'europe' et 'africa':\", similarity)\n"
      ],
      "metadata": {
        "colab": {
          "base_uri": "https://localhost:8080/"
        },
        "id": "HYIvARfrkp8H",
        "outputId": "039ae81c-f9cc-42c9-b121-93a3af2a2285"
      },
      "execution_count": 75,
      "outputs": [
        {
          "output_type": "stream",
          "name": "stdout",
          "text": [
            "Similarité entre 'europe' et 'africa': 0.027138462\n"
          ]
        }
      ]
    },
    {
      "cell_type": "code",
      "source": [
        "\n",
        "# 3. Mots contextuels pour un mot central donné\n",
        "context_words = model.wv.most_similar('morocco', topn=5)\n",
        "print(\"Mots contextuels pour 'morocco':\", context_words)"
      ],
      "metadata": {
        "colab": {
          "base_uri": "https://localhost:8080/"
        },
        "id": "8OD_rBcvkri7",
        "outputId": "ab6d87f2-e3b3-4a12-f4cf-1fbebb270ce4"
      },
      "execution_count": 76,
      "outputs": [
        {
          "output_type": "stream",
          "name": "stdout",
          "text": [
            "Mots contextuels pour 'morocco': [('adventure', 0.21619801223278046), ('culture', 0.18916991353034973), ('tapestry', 0.18886488676071167), ('stand', 0.18423116207122803), ('sea', 0.1837109625339508)]\n"
          ]
        }
      ]
    }
  ]
}